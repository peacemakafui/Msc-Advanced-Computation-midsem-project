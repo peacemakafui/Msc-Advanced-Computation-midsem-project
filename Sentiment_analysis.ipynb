{
  "nbformat": 4,
  "nbformat_minor": 0,
  "metadata": {
    "colab": {
      "provenance": [],
      "authorship_tag": "ABX9TyNh+wVm65j/ektHDvYNnESy",
      "include_colab_link": true
    },
    "kernelspec": {
      "name": "python3",
      "display_name": "Python 3"
    },
    "language_info": {
      "name": "python"
    }
  },
  "cells": [
    {
      "cell_type": "markdown",
      "metadata": {
        "id": "view-in-github",
        "colab_type": "text"
      },
      "source": [
        "<a href=\"https://colab.research.google.com/github/peacemakafui/Msc-Advanced-Computation-midsem-project/blob/main/Sentiment_analysis.ipynb\" target=\"_parent\"><img src=\"https://colab.research.google.com/assets/colab-badge.svg\" alt=\"Open In Colab\"/></a>"
      ]
    },
    {
      "cell_type": "code",
      "execution_count": 2,
      "metadata": {
        "id": "axPP9B5X9W7P"
      },
      "outputs": [],
      "source": [
        "import os\n",
        "reviews_data = '/content/amazon_reviews.csv'"
      ]
    },
    {
      "cell_type": "code",
      "source": [
        "import pandas as pd\n",
        "\n",
        "# Load the dataset\n",
        "df = pd.read_csv(reviews_data)\n",
        "\n",
        "# Display the first few rows\n",
        "print(df.head())\n"
      ],
      "metadata": {
        "colab": {
          "base_uri": "https://localhost:8080/"
        },
        "collapsed": true,
        "id": "uHU34VhnEoqL",
        "outputId": "9e87711b-e6d0-4cb3-88cd-2134fb65cc1c"
      },
      "execution_count": 3,
      "outputs": [
        {
          "output_type": "stream",
          "name": "stdout",
          "text": [
            "       reviewerID        asin  reviewerName helpful  \\\n",
            "0  A3SBTW3WS4IQSN  B007WTAJTO           NaN  [0, 0]   \n",
            "1  A18K1ODH1I2MVB  B007WTAJTO          0mie  [0, 0]   \n",
            "2  A2FII3I2MBMUIA  B007WTAJTO           1K3  [0, 0]   \n",
            "3   A3H99DFEG68SR  B007WTAJTO           1m2  [0, 0]   \n",
            "4  A375ZM4U047O79  B007WTAJTO  2&amp;1/2Men  [0, 0]   \n",
            "\n",
            "                                          reviewText  overall  \\\n",
            "0                                         No issues.      4.0   \n",
            "1  Purchased this for my device, it worked as adv...      5.0   \n",
            "2  it works as expected. I should have sprung for...      4.0   \n",
            "3  This think has worked out great.Had a diff. br...      5.0   \n",
            "4  Bought it with Retail Packaging, arrived legit...      5.0   \n",
            "\n",
            "                                  summary  unixReviewTime  reviewTime  \\\n",
            "0                              Four Stars      1406073600  2014-07-23   \n",
            "1                           MOAR SPACE!!!      1382659200  2013-10-25   \n",
            "2               nothing to really say....      1356220800  2012-12-23   \n",
            "3  Great buy at this price!!!  *** UPDATE      1384992000  2013-11-21   \n",
            "4                        best deal around      1373673600  2013-07-13   \n",
            "\n",
            "   day_diff  helpful_yes  total_vote  \n",
            "0       138            0           0  \n",
            "1       409            0           0  \n",
            "2       715            0           0  \n",
            "3       382            0           0  \n",
            "4       513            0           0  \n"
          ]
        }
      ]
    },
    {
      "source": [
        "from textblob import TextBlob\n",
        "\n",
        "# Function to get sentiment polarity\n",
        "def get_sentiment(text):\n",
        "    # Convert to string if not already\n",
        "    text = str(text)\n",
        "    analysis = TextBlob(text)\n",
        "    if analysis.sentiment.polarity > 0:\n",
        "        return 'positive'\n",
        "    elif analysis.sentiment.polarity < 0:\n",
        "        return 'negative'\n",
        "    else:\n",
        "        return 'neutral'\n",
        "\n",
        "# Apply sentiment analysis to each review\n",
        "df['Sentiment'] = df['reviewText'].apply(get_sentiment)\n",
        "\n",
        "# Display the results\n",
        "print(df.head())"
      ],
      "cell_type": "code",
      "metadata": {
        "colab": {
          "base_uri": "https://localhost:8080/"
        },
        "collapsed": true,
        "id": "Mp2h0XfdGLqw",
        "outputId": "55957ad3-bfe7-4ba4-bbbd-32775e1feb88"
      },
      "execution_count": 4,
      "outputs": [
        {
          "output_type": "stream",
          "name": "stdout",
          "text": [
            "       reviewerID        asin  reviewerName helpful  \\\n",
            "0  A3SBTW3WS4IQSN  B007WTAJTO           NaN  [0, 0]   \n",
            "1  A18K1ODH1I2MVB  B007WTAJTO          0mie  [0, 0]   \n",
            "2  A2FII3I2MBMUIA  B007WTAJTO           1K3  [0, 0]   \n",
            "3   A3H99DFEG68SR  B007WTAJTO           1m2  [0, 0]   \n",
            "4  A375ZM4U047O79  B007WTAJTO  2&amp;1/2Men  [0, 0]   \n",
            "\n",
            "                                          reviewText  overall  \\\n",
            "0                                         No issues.      4.0   \n",
            "1  Purchased this for my device, it worked as adv...      5.0   \n",
            "2  it works as expected. I should have sprung for...      4.0   \n",
            "3  This think has worked out great.Had a diff. br...      5.0   \n",
            "4  Bought it with Retail Packaging, arrived legit...      5.0   \n",
            "\n",
            "                                  summary  unixReviewTime  reviewTime  \\\n",
            "0                              Four Stars      1406073600  2014-07-23   \n",
            "1                           MOAR SPACE!!!      1382659200  2013-10-25   \n",
            "2               nothing to really say....      1356220800  2012-12-23   \n",
            "3  Great buy at this price!!!  *** UPDATE      1384992000  2013-11-21   \n",
            "4                        best deal around      1373673600  2013-07-13   \n",
            "\n",
            "   day_diff  helpful_yes  total_vote Sentiment  \n",
            "0       138            0           0   neutral  \n",
            "1       409            0           0  positive  \n",
            "2       715            0           0  positive  \n",
            "3       382            0           0   neutral  \n",
            "4       513            0           0  positive  \n"
          ]
        }
      ]
    },
    {
      "cell_type": "code",
      "source": [
        "# Calculate sentiment percentages\n",
        "sentiment_counts = df['Sentiment'].value_counts(normalize=True) * 100\n",
        "print(sentiment_counts)"
      ],
      "metadata": {
        "colab": {
          "base_uri": "https://localhost:8080/"
        },
        "id": "BTzPD-xqHQZQ",
        "outputId": "48eb6119-f06e-465c-bda1-3a8d531754bc"
      },
      "execution_count": 7,
      "outputs": [
        {
          "output_type": "stream",
          "name": "stdout",
          "text": [
            "Sentiment\n",
            "positive    84.679552\n",
            "negative     9.542218\n",
            "neutral      5.778230\n",
            "Name: proportion, dtype: float64\n"
          ]
        }
      ]
    },
    {
      "cell_type": "code",
      "source": [
        "from collections import Counter\n",
        "from nltk.corpus import stopwords\n",
        "import nltk\n",
        "\n",
        "# Download stopwords\n",
        "nltk.download('stopwords')\n",
        "\n",
        "#Function to extract key themes\n",
        "def extract_themes(reviews):\n",
        "    all_words = []\n",
        "    words_to_use = []\n",
        "    stop_words = set(stopwords.words('english'))\n",
        "    for review in reviews:\n",
        "        all_words.extend(str(review).lower().split())\n",
        "    for word in all_words:\n",
        "        if word not in stop_words:\n",
        "            words_to_use.append(word)\n",
        "    return Counter(words_to_use).most_common(10)\n",
        "\n",
        "themes = extract_themes(df['reviewText'])\n",
        "print(\"Key Themes:\", themes)"
      ],
      "metadata": {
        "colab": {
          "base_uri": "https://localhost:8080/"
        },
        "id": "F9sBVR4FHvNH",
        "outputId": "3c396bf2-7bfb-4b5e-8d05-b31e03d92666"
      },
      "execution_count": 57,
      "outputs": [
        {
          "output_type": "stream",
          "name": "stdout",
          "text": [
            "Key Themes: [('card', 3475), ('works', 1468), ('memory', 1182), ('sd', 1131), ('phone', 1113), ('sandisk', 1104), ('great', 1078), ('use', 1028), ('galaxy', 1011), ('one', 916)]\n"
          ]
        },
        {
          "output_type": "stream",
          "name": "stderr",
          "text": [
            "[nltk_data] Downloading package stopwords to /root/nltk_data...\n",
            "[nltk_data]   Package stopwords is already up-to-date!\n"
          ]
        }
      ]
    },
    {
      "cell_type": "code",
      "source": [
        "# Generate a summary report\n",
        "report = f\"\"\"\n",
        "Sentiment Analysis Report:\n",
        "- Positive Reviews: {sentiment_counts['positive']:.2f}%\n",
        "- Negative Reviews: {sentiment_counts['negative']:.2f}%\n",
        "- Neutral Reviews: {sentiment_counts['neutral']:.2f}%\n",
        "\n",
        "Key Themes:\n",
        "{themes}\n",
        "\"\"\"\n",
        "\n",
        "print(report)"
      ],
      "metadata": {
        "colab": {
          "base_uri": "https://localhost:8080/"
        },
        "id": "nYFSkzeVb3g1",
        "outputId": "daf4b218-0514-49a5-f6f9-ed45059dad0c"
      },
      "execution_count": 55,
      "outputs": [
        {
          "output_type": "stream",
          "name": "stdout",
          "text": [
            "\n",
            "Sentiment Analysis Report:\n",
            "- Positive Reviews: 84.68%\n",
            "- Negative Reviews: 9.54%\n",
            "- Neutral Reviews: 5.78%\n",
            "\n",
            "Key Themes:\n",
            "[('card', 3475), ('works', 1468), ('memory', 1182), ('sd', 1131), ('phone', 1113), ('sandisk', 1104), ('great', 1078), ('use', 1028), ('galaxy', 1011), ('one', 916)]\n",
            "\n"
          ]
        }
      ]
    }
  ]
}